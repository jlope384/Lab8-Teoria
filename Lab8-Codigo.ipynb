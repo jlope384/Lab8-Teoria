{
 "cells": [
  {
   "cell_type": "markdown",
   "id": "b05d4670",
   "metadata": {},
   "source": [
    "Ejercicio 1"
   ]
  },
  {
   "cell_type": "code",
   "execution_count": null,
   "id": "415250ea",
   "metadata": {},
   "outputs": [],
   "source": [
    "import time\n",
    "import matplotlib.pyplot as plt\n",
    "\n",
    "def function1(n):\n",
    "    counter = 0\n",
    "    for i in range(n // 2, n + 1):\n",
    "        for j in range(1, n - n // 2 + 1):\n",
    "            k = 1\n",
    "            while k <= n:\n",
    "                counter += 1\n",
    "                k *= 2\n",
    "    return counter\n",
    "  \n",
    "sizes = [1, 10, 100, 1000, 10000, 100000, 1000000]\n",
    "times = []\n",
    "\n",
    "for n in sizes:\n",
    "    start = time.time()\n",
    "    function1(n)\n",
    "    end = time.time()\n",
    "    times.append(end - start)\n",
    "    print(f\"n={n}, tiempo={end - start:.6f} s\")\n",
    "\n",
    "plt.plot(sizes, times, marker='o')\n",
    "plt.xlabel(\"Tamaño de                                                                                                                                                                                                                                                                                                                                                                                                                                                                                                                                                                                                                                                                                                                                                                                                                                                                                                                                                                                                                   entrada (n)\")\n",
    "plt.ylabel(\"Tiempo de ejecución (s)\")\n",
    "plt.title(\"Ejercicio 1: Complejidad O(n^2 log n)\")\n",
    "plt.grid(True)\n",
    "plt.show()\n"
   ]
  }
 ],
 "metadata": {
  "kernelspec": {
   "display_name": "Python 3",
   "language": "python",
   "name": "python3"
  },
  "language_info": {
   "codemirror_mode": {
    "name": "ipython",
    "version": 3
   },
   "file_extension": ".py",
   "mimetype": "text/x-python",
   "name": "python",
   "nbconvert_exporter": "python",
   "pygments_lexer": "ipython3",
   "version": "3.12.8"
  }
 },
 "nbformat": 4,
 "nbformat_minor": 5
}
